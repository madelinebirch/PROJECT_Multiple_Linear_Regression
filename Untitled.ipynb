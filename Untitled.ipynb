{
 "cells": [
  {
   "cell_type": "markdown",
   "metadata": {},
   "source": [
    "Madeline Birch // April 13, 2023 // DSC- Flex (Mark Barbour)"
   ]
  },
  {
   "cell_type": "markdown",
   "metadata": {},
   "source": [
    "# PHASE 2 PROJECT"
   ]
  },
  {
   "cell_type": "markdown",
   "metadata": {},
   "source": [
    "![Long and Foster](Long_and_Foster.png)"
   ]
  },
  {
   "cell_type": "markdown",
   "metadata": {},
   "source": [
    "# Business Understanding"
   ]
  },
  {
   "cell_type": "markdown",
   "metadata": {},
   "source": [
    "Real estate company Long and Foster is interested in developing a predictive model that can estimate the sale price of a house in King Count, Washington. By analyzing various factors such as the number of bedrooms, bathrooms, square footage of the house, location, and other important features, L&F aim to provide more accurate home sale price estimates to their clients and improve their business efficiency. \n",
    "\n",
    "The modeling process will also help Long and Foster identify potential investment opportunities in the county by analyzing which features have the most significant impact on the sale price of a house. By using the results of the analysis, the company can make better decisions regarding their investments in the county. \n",
    "\n",
    "The objective of this project is to create a multiple linear regression model that can predict the sale price of a house based on predictive factors and provide insights that can help Long and Foster improve their business operations."
   ]
  },
  {
   "cell_type": "markdown",
   "metadata": {},
   "source": [
    "# Data Understanding"
   ]
  },
  {
   "cell_type": "markdown",
   "metadata": {},
   "source": [
    "### Why multiple linear regression?"
   ]
  },
  {
   "cell_type": "markdown",
   "metadata": {},
   "source": [
    "Instead of a basic, exploratory data analysis, we are using statistical analyses, such as regression coefficients and R-squared values. Such statistics allow us to identify and tactically measure the relationships between different variables in our data. Basic data analysis (i.e. creating graphs and charts) help us visualize our data and identify patterns, but it does not provide us with a formal measure of the strength of the relationships or the predictive power of the variables.\n",
    "\n",
    "Regression analysis estimate the coefficients of each variable and their statistical significance, which helps us to understand the relative importance of each variable in predicting the target (price).\n",
    "\n",
    "In addition, regression analysis allows us to control for the effects of other variables in the model and assess their impact on the dependent variable. This allows us to isolate the effect of each independent variable on the dependent variable and identify potential investment opportunities based on the variables that have the most significant impact on house prices."
   ]
  },
  {
   "cell_type": "markdown",
   "metadata": {},
   "source": [
    "### The Dataset"
   ]
  },
  {
   "cell_type": "markdown",
   "metadata": {},
   "source": [
    "For this project, we are using 'kc_house_data.csv', a public, tabular dataset lifted from from King County, WA's website (kingcounty.gov). \n",
    "\n",
    "Our target variable is 'price', which records final sale price of King County homes. Columns serve as features (predictors) in this dataset. The dataset has been updated to include homes sold up until the year 2022. \n",
    "\n",
    "Numeric predictors are:\n",
    "'id' (recordor observation number), 'date' (date sold), 'bedrooms' (no. bedrooms), 'bathrooms' (no. bathrooms), 'sqft_above'(square footage of home apart from basement), 'sqft_living'(square footage of living space in the home),'sqft_lot'(square footage of lot), 'sqft_garage'(square footage of garage), 'sqft_patio(square footage of outdoor patio),'floors'(number of floors, including levels, in the home), 'yr_built'(year home was built), 'yr_renovated'(if and when home was renovated), 'lat'(latitude coordinate), and 'long'(longitude coordinate).\n",
    "\n",
    "Categorical predictors are:\n",
    "'waterfront'(whether or not home is on a waterfront, eg. Puget Sound, Lake Washington, etc.), 'greenbelt'(whether or not home is near or adjacent to a green belt or natural land),'nuisance'(whether or not the home is near an airport, heavy traffic, or other notable nuisances), 'view'(quality of both nature and city views from the home), 'condition'(overall codified condition of the house as defined by (https://info.kingcounty.gov/assessor/esales/Glossary.aspx?type=r), 'grade'(overall grade of the house pertaining to construction and design), 'heat_source'(heat source type), and 'sewer_system'(sewer system type)."
   ]
  },
  {
   "cell_type": "markdown",
   "metadata": {},
   "source": [
    "# Data Preparation"
   ]
  },
  {
   "cell_type": "markdown",
   "metadata": {},
   "source": [
    "We will begin by performing a surface level inspection of the dataset to get a better understanding of it. "
   ]
  },
  {
   "cell_type": "code",
   "execution_count": 1,
   "metadata": {},
   "outputs": [],
   "source": [
    "# Importing pandas and numpy libraries \n",
    "import pandas as pd\n",
    "import numpy as np\n",
    "\n",
    "# Reading dataset as a pandas DataFrame\n",
    "data = pd.read_csv('data/kc_house_data.csv')"
   ]
  },
  {
   "cell_type": "code",
   "execution_count": 2,
   "metadata": {},
   "outputs": [
    {
     "data": {
      "text/html": [
       "<div>\n",
       "<style scoped>\n",
       "    .dataframe tbody tr th:only-of-type {\n",
       "        vertical-align: middle;\n",
       "    }\n",
       "\n",
       "    .dataframe tbody tr th {\n",
       "        vertical-align: top;\n",
       "    }\n",
       "\n",
       "    .dataframe thead th {\n",
       "        text-align: right;\n",
       "    }\n",
       "</style>\n",
       "<table border=\"1\" class=\"dataframe\">\n",
       "  <thead>\n",
       "    <tr style=\"text-align: right;\">\n",
       "      <th></th>\n",
       "      <th>id</th>\n",
       "      <th>date</th>\n",
       "      <th>price</th>\n",
       "      <th>bedrooms</th>\n",
       "      <th>bathrooms</th>\n",
       "      <th>sqft_living</th>\n",
       "      <th>sqft_lot</th>\n",
       "      <th>floors</th>\n",
       "      <th>waterfront</th>\n",
       "      <th>greenbelt</th>\n",
       "      <th>...</th>\n",
       "      <th>sewer_system</th>\n",
       "      <th>sqft_above</th>\n",
       "      <th>sqft_basement</th>\n",
       "      <th>sqft_garage</th>\n",
       "      <th>sqft_patio</th>\n",
       "      <th>yr_built</th>\n",
       "      <th>yr_renovated</th>\n",
       "      <th>address</th>\n",
       "      <th>lat</th>\n",
       "      <th>long</th>\n",
       "    </tr>\n",
       "  </thead>\n",
       "  <tbody>\n",
       "    <tr>\n",
       "      <th>0</th>\n",
       "      <td>7399300360</td>\n",
       "      <td>5/24/2022</td>\n",
       "      <td>675000.0</td>\n",
       "      <td>4</td>\n",
       "      <td>1.0</td>\n",
       "      <td>1180</td>\n",
       "      <td>7140</td>\n",
       "      <td>1.0</td>\n",
       "      <td>NO</td>\n",
       "      <td>NO</td>\n",
       "      <td>...</td>\n",
       "      <td>PUBLIC</td>\n",
       "      <td>1180</td>\n",
       "      <td>0</td>\n",
       "      <td>0</td>\n",
       "      <td>40</td>\n",
       "      <td>1969</td>\n",
       "      <td>0</td>\n",
       "      <td>2102 Southeast 21st Court, Renton, Washington ...</td>\n",
       "      <td>47.461975</td>\n",
       "      <td>-122.190520</td>\n",
       "    </tr>\n",
       "    <tr>\n",
       "      <th>1</th>\n",
       "      <td>8910500230</td>\n",
       "      <td>12/13/2021</td>\n",
       "      <td>920000.0</td>\n",
       "      <td>5</td>\n",
       "      <td>2.5</td>\n",
       "      <td>2770</td>\n",
       "      <td>6703</td>\n",
       "      <td>1.0</td>\n",
       "      <td>NO</td>\n",
       "      <td>NO</td>\n",
       "      <td>...</td>\n",
       "      <td>PUBLIC</td>\n",
       "      <td>1570</td>\n",
       "      <td>1570</td>\n",
       "      <td>0</td>\n",
       "      <td>240</td>\n",
       "      <td>1950</td>\n",
       "      <td>0</td>\n",
       "      <td>11231 Greenwood Avenue North, Seattle, Washing...</td>\n",
       "      <td>47.711525</td>\n",
       "      <td>-122.355910</td>\n",
       "    </tr>\n",
       "    <tr>\n",
       "      <th>2</th>\n",
       "      <td>1180000275</td>\n",
       "      <td>9/29/2021</td>\n",
       "      <td>311000.0</td>\n",
       "      <td>6</td>\n",
       "      <td>2.0</td>\n",
       "      <td>2880</td>\n",
       "      <td>6156</td>\n",
       "      <td>1.0</td>\n",
       "      <td>NO</td>\n",
       "      <td>NO</td>\n",
       "      <td>...</td>\n",
       "      <td>PUBLIC</td>\n",
       "      <td>1580</td>\n",
       "      <td>1580</td>\n",
       "      <td>0</td>\n",
       "      <td>0</td>\n",
       "      <td>1956</td>\n",
       "      <td>0</td>\n",
       "      <td>8504 South 113th Street, Seattle, Washington 9...</td>\n",
       "      <td>47.502045</td>\n",
       "      <td>-122.225200</td>\n",
       "    </tr>\n",
       "    <tr>\n",
       "      <th>3</th>\n",
       "      <td>1604601802</td>\n",
       "      <td>12/14/2021</td>\n",
       "      <td>775000.0</td>\n",
       "      <td>3</td>\n",
       "      <td>3.0</td>\n",
       "      <td>2160</td>\n",
       "      <td>1400</td>\n",
       "      <td>2.0</td>\n",
       "      <td>NO</td>\n",
       "      <td>NO</td>\n",
       "      <td>...</td>\n",
       "      <td>PUBLIC</td>\n",
       "      <td>1090</td>\n",
       "      <td>1070</td>\n",
       "      <td>200</td>\n",
       "      <td>270</td>\n",
       "      <td>2010</td>\n",
       "      <td>0</td>\n",
       "      <td>4079 Letitia Avenue South, Seattle, Washington...</td>\n",
       "      <td>47.566110</td>\n",
       "      <td>-122.290200</td>\n",
       "    </tr>\n",
       "    <tr>\n",
       "      <th>4</th>\n",
       "      <td>8562780790</td>\n",
       "      <td>8/24/2021</td>\n",
       "      <td>592500.0</td>\n",
       "      <td>2</td>\n",
       "      <td>2.0</td>\n",
       "      <td>1120</td>\n",
       "      <td>758</td>\n",
       "      <td>2.0</td>\n",
       "      <td>NO</td>\n",
       "      <td>NO</td>\n",
       "      <td>...</td>\n",
       "      <td>PUBLIC</td>\n",
       "      <td>1120</td>\n",
       "      <td>550</td>\n",
       "      <td>550</td>\n",
       "      <td>30</td>\n",
       "      <td>2012</td>\n",
       "      <td>0</td>\n",
       "      <td>2193 Northwest Talus Drive, Issaquah, Washingt...</td>\n",
       "      <td>47.532470</td>\n",
       "      <td>-122.071880</td>\n",
       "    </tr>\n",
       "    <tr>\n",
       "      <th>5</th>\n",
       "      <td>2807100156</td>\n",
       "      <td>7/20/2021</td>\n",
       "      <td>625000.0</td>\n",
       "      <td>2</td>\n",
       "      <td>1.0</td>\n",
       "      <td>1190</td>\n",
       "      <td>5688</td>\n",
       "      <td>1.0</td>\n",
       "      <td>NO</td>\n",
       "      <td>NO</td>\n",
       "      <td>...</td>\n",
       "      <td>PUBLIC</td>\n",
       "      <td>1190</td>\n",
       "      <td>0</td>\n",
       "      <td>300</td>\n",
       "      <td>0</td>\n",
       "      <td>1948</td>\n",
       "      <td>0</td>\n",
       "      <td>1602 North 185th Street, Shoreline, Washington...</td>\n",
       "      <td>47.763470</td>\n",
       "      <td>-122.340155</td>\n",
       "    </tr>\n",
       "    <tr>\n",
       "      <th>6</th>\n",
       "      <td>5122400111</td>\n",
       "      <td>11/17/2021</td>\n",
       "      <td>1317227.0</td>\n",
       "      <td>3</td>\n",
       "      <td>3.0</td>\n",
       "      <td>2080</td>\n",
       "      <td>27574</td>\n",
       "      <td>1.0</td>\n",
       "      <td>NO</td>\n",
       "      <td>NO</td>\n",
       "      <td>...</td>\n",
       "      <td>PRIVATE</td>\n",
       "      <td>2080</td>\n",
       "      <td>0</td>\n",
       "      <td>0</td>\n",
       "      <td>150</td>\n",
       "      <td>1951</td>\n",
       "      <td>0</td>\n",
       "      <td>2633 Southwest 164th Place, Burien, Washington...</td>\n",
       "      <td>47.455470</td>\n",
       "      <td>-122.367220</td>\n",
       "    </tr>\n",
       "    <tr>\n",
       "      <th>7</th>\n",
       "      <td>7137850210</td>\n",
       "      <td>4/28/2022</td>\n",
       "      <td>820000.0</td>\n",
       "      <td>3</td>\n",
       "      <td>2.5</td>\n",
       "      <td>2214</td>\n",
       "      <td>3506</td>\n",
       "      <td>2.0</td>\n",
       "      <td>NO</td>\n",
       "      <td>NO</td>\n",
       "      <td>...</td>\n",
       "      <td>PUBLIC</td>\n",
       "      <td>2214</td>\n",
       "      <td>0</td>\n",
       "      <td>440</td>\n",
       "      <td>206</td>\n",
       "      <td>2019</td>\n",
       "      <td>0</td>\n",
       "      <td>24913 122nd Place Southeast, Kent, Washington ...</td>\n",
       "      <td>47.378355</td>\n",
       "      <td>-122.178625</td>\n",
       "    </tr>\n",
       "    <tr>\n",
       "      <th>8</th>\n",
       "      <td>2944500680</td>\n",
       "      <td>3/17/2022</td>\n",
       "      <td>780000.0</td>\n",
       "      <td>4</td>\n",
       "      <td>2.5</td>\n",
       "      <td>2340</td>\n",
       "      <td>8125</td>\n",
       "      <td>2.0</td>\n",
       "      <td>NO</td>\n",
       "      <td>NO</td>\n",
       "      <td>...</td>\n",
       "      <td>PUBLIC</td>\n",
       "      <td>2340</td>\n",
       "      <td>0</td>\n",
       "      <td>440</td>\n",
       "      <td>70</td>\n",
       "      <td>1989</td>\n",
       "      <td>0</td>\n",
       "      <td>2721 Southwest 343rd Place, Federal Way, Washi...</td>\n",
       "      <td>47.293770</td>\n",
       "      <td>-122.369320</td>\n",
       "    </tr>\n",
       "    <tr>\n",
       "      <th>9</th>\n",
       "      <td>2619950340</td>\n",
       "      <td>6/21/2021</td>\n",
       "      <td>975000.0</td>\n",
       "      <td>4</td>\n",
       "      <td>2.5</td>\n",
       "      <td>2980</td>\n",
       "      <td>5859</td>\n",
       "      <td>2.0</td>\n",
       "      <td>NO</td>\n",
       "      <td>NO</td>\n",
       "      <td>...</td>\n",
       "      <td>PUBLIC</td>\n",
       "      <td>2980</td>\n",
       "      <td>0</td>\n",
       "      <td>540</td>\n",
       "      <td>170</td>\n",
       "      <td>2011</td>\n",
       "      <td>0</td>\n",
       "      <td>27950 Northeast 147th Circle, Duvall, Washingt...</td>\n",
       "      <td>47.733170</td>\n",
       "      <td>-121.965305</td>\n",
       "    </tr>\n",
       "  </tbody>\n",
       "</table>\n",
       "<p>10 rows × 25 columns</p>\n",
       "</div>"
      ],
      "text/plain": [
       "           id        date      price  bedrooms  bathrooms  sqft_living  \\\n",
       "0  7399300360   5/24/2022   675000.0         4        1.0         1180   \n",
       "1  8910500230  12/13/2021   920000.0         5        2.5         2770   \n",
       "2  1180000275   9/29/2021   311000.0         6        2.0         2880   \n",
       "3  1604601802  12/14/2021   775000.0         3        3.0         2160   \n",
       "4  8562780790   8/24/2021   592500.0         2        2.0         1120   \n",
       "5  2807100156   7/20/2021   625000.0         2        1.0         1190   \n",
       "6  5122400111  11/17/2021  1317227.0         3        3.0         2080   \n",
       "7  7137850210   4/28/2022   820000.0         3        2.5         2214   \n",
       "8  2944500680   3/17/2022   780000.0         4        2.5         2340   \n",
       "9  2619950340   6/21/2021   975000.0         4        2.5         2980   \n",
       "\n",
       "   sqft_lot  floors waterfront greenbelt  ... sewer_system sqft_above  \\\n",
       "0      7140     1.0         NO        NO  ...       PUBLIC       1180   \n",
       "1      6703     1.0         NO        NO  ...       PUBLIC       1570   \n",
       "2      6156     1.0         NO        NO  ...       PUBLIC       1580   \n",
       "3      1400     2.0         NO        NO  ...       PUBLIC       1090   \n",
       "4       758     2.0         NO        NO  ...       PUBLIC       1120   \n",
       "5      5688     1.0         NO        NO  ...       PUBLIC       1190   \n",
       "6     27574     1.0         NO        NO  ...      PRIVATE       2080   \n",
       "7      3506     2.0         NO        NO  ...       PUBLIC       2214   \n",
       "8      8125     2.0         NO        NO  ...       PUBLIC       2340   \n",
       "9      5859     2.0         NO        NO  ...       PUBLIC       2980   \n",
       "\n",
       "  sqft_basement sqft_garage sqft_patio yr_built  yr_renovated  \\\n",
       "0             0           0         40     1969             0   \n",
       "1          1570           0        240     1950             0   \n",
       "2          1580           0          0     1956             0   \n",
       "3          1070         200        270     2010             0   \n",
       "4           550         550         30     2012             0   \n",
       "5             0         300          0     1948             0   \n",
       "6             0           0        150     1951             0   \n",
       "7             0         440        206     2019             0   \n",
       "8             0         440         70     1989             0   \n",
       "9             0         540        170     2011             0   \n",
       "\n",
       "                                             address        lat        long  \n",
       "0  2102 Southeast 21st Court, Renton, Washington ...  47.461975 -122.190520  \n",
       "1  11231 Greenwood Avenue North, Seattle, Washing...  47.711525 -122.355910  \n",
       "2  8504 South 113th Street, Seattle, Washington 9...  47.502045 -122.225200  \n",
       "3  4079 Letitia Avenue South, Seattle, Washington...  47.566110 -122.290200  \n",
       "4  2193 Northwest Talus Drive, Issaquah, Washingt...  47.532470 -122.071880  \n",
       "5  1602 North 185th Street, Shoreline, Washington...  47.763470 -122.340155  \n",
       "6  2633 Southwest 164th Place, Burien, Washington...  47.455470 -122.367220  \n",
       "7  24913 122nd Place Southeast, Kent, Washington ...  47.378355 -122.178625  \n",
       "8  2721 Southwest 343rd Place, Federal Way, Washi...  47.293770 -122.369320  \n",
       "9  27950 Northeast 147th Circle, Duvall, Washingt...  47.733170 -121.965305  \n",
       "\n",
       "[10 rows x 25 columns]"
      ]
     },
     "execution_count": 2,
     "metadata": {},
     "output_type": "execute_result"
    }
   ],
   "source": [
    "# Inspecting the head of the dataframe\n",
    "data.head(10)"
   ]
  },
  {
   "cell_type": "code",
   "execution_count": 3,
   "metadata": {},
   "outputs": [
    {
     "data": {
      "text/plain": [
       "(30155, 25)"
      ]
     },
     "execution_count": 3,
     "metadata": {},
     "output_type": "execute_result"
    }
   ],
   "source": [
    "# Getting shape of the dataframe to understand no. of observations\n",
    "data.shape"
   ]
  },
  {
   "cell_type": "code",
   "execution_count": 4,
   "metadata": {},
   "outputs": [
    {
     "data": {
      "text/plain": [
       "Index(['id', 'date', 'price', 'bedrooms', 'bathrooms', 'sqft_living',\n",
       "       'sqft_lot', 'floors', 'waterfront', 'greenbelt', 'nuisance', 'view',\n",
       "       'condition', 'grade', 'heat_source', 'sewer_system', 'sqft_above',\n",
       "       'sqft_basement', 'sqft_garage', 'sqft_patio', 'yr_built',\n",
       "       'yr_renovated', 'address', 'lat', 'long'],\n",
       "      dtype='object')"
      ]
     },
     "execution_count": 4,
     "metadata": {},
     "output_type": "execute_result"
    }
   ],
   "source": [
    "# Inspecting full list of columns \n",
    "data.columns"
   ]
  },
  {
   "cell_type": "markdown",
   "metadata": {},
   "source": [
    "### Data cleaning: handling missing values"
   ]
  },
  {
   "cell_type": "code",
   "execution_count": 5,
   "metadata": {},
   "outputs": [
    {
     "data": {
      "text/plain": [
       "id                0\n",
       "date              0\n",
       "price             0\n",
       "bedrooms          0\n",
       "bathrooms         0\n",
       "sqft_living       0\n",
       "sqft_lot          0\n",
       "floors            0\n",
       "waterfront        0\n",
       "greenbelt         0\n",
       "nuisance          0\n",
       "view              0\n",
       "condition         0\n",
       "grade             0\n",
       "heat_source      32\n",
       "sewer_system     14\n",
       "sqft_above        0\n",
       "sqft_basement     0\n",
       "sqft_garage       0\n",
       "sqft_patio        0\n",
       "yr_built          0\n",
       "yr_renovated      0\n",
       "address           0\n",
       "lat               0\n",
       "long              0\n",
       "dtype: int64"
      ]
     },
     "execution_count": 5,
     "metadata": {},
     "output_type": "execute_result"
    }
   ],
   "source": [
    "# Checking for null values \n",
    "data.isnull().sum()"
   ]
  },
  {
   "cell_type": "code",
   "execution_count": 6,
   "metadata": {},
   "outputs": [],
   "source": [
    "data = data.drop(['heat_source', 'sewer_system'], axis=1)"
   ]
  },
  {
   "cell_type": "code",
   "execution_count": 7,
   "metadata": {},
   "outputs": [
    {
     "data": {
      "text/plain": [
       "id                 int64\n",
       "date              object\n",
       "price            float64\n",
       "bedrooms           int64\n",
       "bathrooms        float64\n",
       "sqft_living        int64\n",
       "sqft_lot           int64\n",
       "floors           float64\n",
       "waterfront        object\n",
       "greenbelt         object\n",
       "nuisance          object\n",
       "view              object\n",
       "condition         object\n",
       "grade             object\n",
       "sqft_above         int64\n",
       "sqft_basement      int64\n",
       "sqft_garage        int64\n",
       "sqft_patio         int64\n",
       "yr_built           int64\n",
       "yr_renovated       int64\n",
       "address           object\n",
       "lat              float64\n",
       "long             float64\n",
       "dtype: object"
      ]
     },
     "execution_count": 7,
     "metadata": {},
     "output_type": "execute_result"
    }
   ],
   "source": [
    "data.dtypes"
   ]
  },
  {
   "cell_type": "code",
   "execution_count": 8,
   "metadata": {},
   "outputs": [],
   "source": [
    "data = data.drop(['address', 'view'], axis=1)"
   ]
  },
  {
   "cell_type": "markdown",
   "metadata": {},
   "source": [
    "### Handling categorical data"
   ]
  },
  {
   "cell_type": "code",
   "execution_count": 9,
   "metadata": {},
   "outputs": [
    {
     "data": {
      "text/plain": [
       "Index(['id', 'date', 'price', 'bedrooms', 'bathrooms', 'sqft_living',\n",
       "       'sqft_lot', 'floors', 'sqft_above', 'sqft_basement', 'sqft_garage',\n",
       "       'sqft_patio', 'yr_built', 'yr_renovated', 'lat', 'long',\n",
       "       'waterfront_YES', 'nuisance_YES', 'greenbelt_YES', 'condition_Fair',\n",
       "       'condition_Good', 'condition_Poor', 'condition_Very Good',\n",
       "       'grade_10 Very Good', 'grade_11 Excellent', 'grade_12 Luxury',\n",
       "       'grade_13 Mansion', 'grade_2 Substandard', 'grade_3 Poor',\n",
       "       'grade_4 Low', 'grade_5 Fair', 'grade_6 Low Average', 'grade_7 Average',\n",
       "       'grade_8 Good', 'grade_9 Better'],\n",
       "      dtype='object')"
      ]
     },
     "execution_count": 9,
     "metadata": {},
     "output_type": "execute_result"
    }
   ],
   "source": [
    "# One-hot encoding categorical data\n",
    "data = pd.get_dummies(data, columns=['waterfront', 'nuisance', 'greenbelt', 'condition', 'grade'], drop_first=True)\n",
    "data.columns"
   ]
  },
  {
   "cell_type": "markdown",
   "metadata": {},
   "source": [
    "### Feature engineering & more data cleaning"
   ]
  },
  {
   "cell_type": "code",
   "execution_count": 10,
   "metadata": {},
   "outputs": [],
   "source": [
    "# Convert the 'date' column to a datetime object\n",
    "data['date'] = pd.to_datetime(data['date'])\n",
    "\n",
    "# Create separate columns for 'month', 'year', and 'day'\n",
    "data['month'] = data['date'].dt.month\n",
    "data['year'] = data['date'].dt.year\n",
    "data['day'] = data['date'].dt.day\n",
    "\n",
    "# Create binary features for seasons using 'month' column\n",
    "data['season_winter'] = data['month'].apply(lambda x: 1 if x in [12, 1, 2] else 0)\n",
    "data['season_spring'] = data['month'].apply(lambda x: 1 if x in [3, 4, 5] else 0)\n",
    "data['season_summer'] = data['month'].apply(lambda x: 1 if x in [6, 7, 8] else 0)\n",
    "data['season_fall'] = data['month'].apply(lambda x: 1 if x in [9, 10, 11] else 0)\n",
    "\n",
    "data = data.drop(['month', 'year', 'day', 'date'], axis=1)"
   ]
  },
  {
   "cell_type": "code",
   "execution_count": 11,
   "metadata": {},
   "outputs": [],
   "source": [
    "# Converting all integers to floats\n",
    "data = data.astype('float64')"
   ]
  },
  {
   "cell_type": "markdown",
   "metadata": {},
   "source": [
    "### Checking for feature-target correlations"
   ]
  },
  {
   "cell_type": "code",
   "execution_count": 13,
   "metadata": {},
   "outputs": [
    {
     "name": "stdout",
     "output_type": "stream",
     "text": [
      "price                  1.000000\n",
      "sqft_living            0.608521\n",
      "sqft_above             0.538651\n",
      "bathrooms              0.480401\n",
      "grade_11 Excellent     0.317190\n",
      "sqft_patio             0.313409\n",
      "grade_10 Very Good     0.300315\n",
      "bedrooms               0.289204\n",
      "grade_12 Luxury        0.282957\n",
      "sqft_garage            0.264169\n",
      "sqft_basement          0.245058\n",
      "waterfront_YES         0.232250\n",
      "grade_9 Better         0.202575\n",
      "grade_13 Mansion       0.198060\n",
      "floors                 0.180576\n",
      "yr_built               0.096013\n",
      "sqft_lot               0.085730\n",
      "yr_renovated           0.084786\n",
      "season_spring          0.084385\n",
      "greenbelt_YES          0.068256\n",
      "lat                    0.063632\n",
      "nuisance_YES           0.011547\n",
      "condition_Very Good    0.008617\n",
      "grade_2 Substandard   -0.007323\n",
      "season_winter         -0.014672\n",
      "grade_3 Poor          -0.014922\n",
      "grade_8 Good          -0.018796\n",
      "grade_4 Low           -0.021569\n",
      "long                  -0.022509\n",
      "condition_Poor        -0.023865\n",
      "season_summer         -0.026724\n",
      "condition_Fair        -0.032139\n",
      "id                    -0.034184\n",
      "condition_Good        -0.037238\n",
      "season_fall           -0.042801\n",
      "grade_5 Fair          -0.062806\n",
      "grade_6 Low Average   -0.164089\n",
      "grade_7 Average       -0.256133\n",
      "Name: price, dtype: float64\n"
     ]
    }
   ],
   "source": [
    "# creating a correlation matrix of all features with respect to 'price' \n",
    "corr_with_price = data.corr()['price'].sort_values(ascending=False)\n",
    "print(corr_with_price)"
   ]
  },
  {
   "cell_type": "markdown",
   "metadata": {},
   "source": [
    "Looking at the above correlation matrix, we see that the feature with the strongest correlation to target 'price' is 'sqft_living'. We will build our first model as a simple regression model using only this variable.\n",
    "\n",
    "In Multiple Linear Regression, we are working with this mathematical formula:\n",
    "\n",
    "y=β1x1+β2x2+...\n",
    "\n",
    "To begin the iterative modeling process, however, we begin with the simple regression formula:\n",
    "\n",
    "y =𝛽0+𝛽1(𝑥)\n",
    "\n",
    "Where:\n",
    "- y = 'price' (target, endogenous variable)\n",
    "- x = 'sqft_living' (single predictor, exogenous variable)\n",
    "- 𝛽0 = y-intercept\n",
    "- 𝛽1 =  slope (regression coefficient)"
   ]
  },
  {
   "cell_type": "code",
   "execution_count": 16,
   "metadata": {},
   "outputs": [
    {
     "data": {
      "text/plain": [
       "<Axes: xlabel='sqft_living', ylabel='price'>"
      ]
     },
     "execution_count": 16,
     "metadata": {},
     "output_type": "execute_result"
    },
    {
     "data": {
      "image/png": "[encoded data removed]",
      "text/plain": [
       "<Figure size 432x288 with 1 Axes>"
      ]
     },
     "metadata": {
      "needs_background": "light"
     },
     "output_type": "display_data"
    }
   ],
   "source": [
    "import seaborn as sns\n",
    "\n",
    "# Plotting scatterplot of raw single predictor 'sqft_living' vs 'price'\n",
    "sns.scatterplot(x='sqft_living', y='price', data=data, alpha=0.5)\n"
   ]
  },
  {
   "cell_type": "code",
   "execution_count": 17,
   "metadata": {},
   "outputs": [
    {
     "name": "stderr",
     "output_type": "stream",
     "text": [
      "/opt/anaconda3/envs/learn-env/lib/python3.8/site-packages/seaborn/distributions.py:2551: FutureWarning: `distplot` is a deprecated function and will be removed in a future version. Please adapt your code to use either `displot` (a figure-level function with similar flexibility) or `histplot` (an axes-level function for histograms).\n",
      "  warnings.warn(msg, FutureWarning)\n"
     ]
    },
    {
     "data": {
      "text/plain": [
       "<Axes: xlabel='sqft_living', ylabel='Density'>"
      ]
     },
     "execution_count": 17,
     "metadata": {},
     "output_type": "execute_result"
    },
    {
     "data": {
      "image/png": "[encoded data removed]",
      "text/plain": [
       "<Figure size 432x288 with 1 Axes>"
      ]
     },
     "metadata": {
      "needs_background": "light"
     },
     "output_type": "display_data"
    }
   ],
   "source": [
    "# Plotting distribution of predictor\n",
    "sns.distplot(data['sqft_living'], kde=True)\n"
   ]
  },
  {
   "cell_type": "markdown",
   "metadata": {},
   "source": [
    "We see from the plots above that there is some positive linearity to the relationship between the target and predictor, and that the raw predictor data is pretty right-skewed. We will investigate this further in our baseline model."
   ]
  },
  {
   "cell_type": "markdown",
   "metadata": {},
   "source": [
    "# Modeling"
   ]
  },
  {
   "cell_type": "markdown",
   "metadata": {},
   "source": [
    "## Baseline Model"
   ]
  },
  {
   "cell_type": "code",
   "execution_count": 21,
   "metadata": {},
   "outputs": [
    {
     "name": "stderr",
     "output_type": "stream",
     "text": [
      "/opt/anaconda3/envs/learn-env/lib/python3.8/site-packages/statsmodels/tsa/tsatools.py:142: FutureWarning: In a future version of pandas all arguments of concat except for the argument 'objs' will be keyword-only.\n",
      "  x = pd.concat(x[::order], 1)\n"
     ]
    },
    {
     "data": {
      "text/plain": [
       "<statsmodels.regression.linear_model.OLS at 0x7f7bdb76ba00>"
      ]
     },
     "execution_count": 21,
     "metadata": {},
     "output_type": "execute_result"
    }
   ],
   "source": [
    "import statsmodels.api as sm\n",
    "\n",
    "# Defining x and y variables\n",
    "y = data['price']\n",
    "X_baseline = data['sqft_living']\n",
    "\n",
    "# Creating the baseline model\n",
    "baseline_model = sm.OLS(endog=y, exog=sm.add_constant(X_baseline))\n",
    "baseline_model"
   ]
  },
  {
   "cell_type": "code",
   "execution_count": 23,
   "metadata": {},
   "outputs": [
    {
     "data": {
      "text/plain": [
       "<statsmodels.regression.linear_model.RegressionResultsWrapper at 0x7f7bdf631e80>"
      ]
     },
     "execution_count": 23,
     "metadata": {},
     "output_type": "execute_result"
    }
   ],
   "source": [
    "# Fitting the model\n",
    "baseline_results = baseline_model.fit()\n",
    "baseline_results"
   ]
  },
  {
   "cell_type": "code",
   "execution_count": 26,
   "metadata": {},
   "outputs": [
    {
     "name": "stdout",
     "output_type": "stream",
     "text": [
      "Model f-statistic: 17731.562179183904\n",
      "Model p-value: 0.0\n",
      "R-squared: 0.3702980955079519\n",
      "Regression coefficients: const         -74432.624330\n",
      "sqft_living      560.005022\n",
      "dtype: float64\n"
     ]
    }
   ],
   "source": [
    "print('Model f-statistic:', baseline_results.fvalue)\n",
    "print('Model p-value:', baseline_results.f_pvalue)\n",
    "print('R-squared:', baseline_results.rsquared)\n",
    "print( 'Regression coefficients:', baseline_results.params)"
   ]
  },
  {
   "cell_type": "markdown",
   "metadata": {},
   "source": [
    "**Interpretations:** \n",
    "\n",
    "**Model f-statistic:** This is a measure of how well the linear regression model fits the data. The higher the f-statistic, the better the model fits the data. In this case, the f-statistic is 17731.562, which is very high and indicates that the model fits the data very well.\n",
    "\n",
    "**Model p-value:** This is a measure of the statistical significance of the f-statistic. It tells us the probability of obtaining an f-statistic as extreme or more extreme than the observed one, assuming the null hypothesis that all the regression coefficients are zero. A small p-value (less than the significance level, often set to 0.05) indicates that the model is statistically significant and that at least one of the regression coefficients is non-zero. In this case, the p-value is 0.0, which is smaller than 0.05 and indicates that the model is highly statistically significant.\n",
    "\n",
    "**R-squared:** This is a measure of how well the independent variable(s) explain the variability in the dependent variable. R-squared values range from 0 to 1, with higher values indicating a better fit. In this case, the R-squared value is 0.3703, which means that the independent variable (sqft_living) explains about 37.03% of the variability in the dependent variable (price).\n",
    "\n",
    "**Regression coefficients:** These are estimates of the effect of the independent variable(s) on the dependent variable. In this case, there are two coefficients: the intercept (const) and the coefficient for sqft_living. The intercept is estimated to be -74432.62, which means that the predicted price when sqft_living is 0 is -74432.62. The coefficient for sqft_living is 560.01, which means that for every one unit increase in sqft_living, the predicted price increases by 560.01."
   ]
  },
  {
   "cell_type": "code",
   "execution_count": null,
   "metadata": {},
   "outputs": [],
   "source": []
  }
 ],
 "metadata": {
  "kernelspec": {
   "display_name": "Python 3",
   "language": "python",
   "name": "python3"
  },
  "language_info": {
   "codemirror_mode": {
    "name": "ipython",
    "version": 3
   },
   "file_extension": ".py",
   "mimetype": "text/x-python",
   "name": "python",
   "nbconvert_exporter": "python",
   "pygments_lexer": "ipython3",
   "version": "3.8.5"
  }
 },
 "nbformat": 4,
 "nbformat_minor": 4
}
